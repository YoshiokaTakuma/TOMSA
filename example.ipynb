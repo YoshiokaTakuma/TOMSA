{
 "cells": [
  {
   "cell_type": "code",
   "execution_count": 328,
   "metadata": {
    "collapsed": false,
    "scrolled": true
   },
   "outputs": [
    {
     "name": "stdout",
     "output_type": "stream",
     "text": [
      "   Point No  CorrdiX support  force\n",
      "0         1        0     fix      0\n",
      "1         2        1    free      5\n",
      "2         3        2    free      5\n",
      "   Spring No  Point1  Point2  constant\n",
      "0          1       1       2         1\n",
      "1          2       2       3         1\n",
      "u 1 = 0.0\n",
      "u 2 = 10.0\n",
      "u 3 = 15.0\n"
     ]
    }
   ],
   "source": [
    "import numpy as np\n",
    "import pandas as pd\n",
    "\n",
    "# データの読み込み\n",
    "node = pd.read_csv('node.csv')\n",
    "spring = pd.read_csv('spring.csv')\n",
    "\n",
    "print(node)\n",
    "print(spring)\n",
    "\n",
    "# 各節点にかかる力\n",
    "force = np.array(node.ix[:,3])\n",
    "\n",
    "# 各ばねのばね定数\n",
    "k = spring.ix[:, 3]\n",
    "\n",
    "# 剛性マトリクス\n",
    "stmx = np.zeros((len(node.ix[:, 0]),len(node.ix[:, 0])))\n",
    "size = node.ix[:,0].size\n",
    "i = 0\n",
    "\n",
    "for i in list(range(size)):\n",
    "    if i == 0:\n",
    "        stmx[0, 0] = k[0]\n",
    "        stmx[0, 1] = k[0] * (-1)\n",
    "\n",
    "    elif i == size - 1:\n",
    "        stmx[i, i-1] = k[i-1] * (-1)\n",
    "        stmx[i, i] = k[i-1]\n",
    "\n",
    "    else:\n",
    "        stmx[i, i-1] = k[i-1] * (-1)\n",
    "        stmx[i, i] = k[i-1] + k[i]\n",
    "        stmx[i, i+1] = k[i] * (-1)\n",
    "\n",
    "# 支持条件を読み込んで、固定→計算から削除\n",
    "# Kaaの抽出しかしてない→固定の支持条件しか計算できない\n",
    "i = 0\n",
    "fix = 1\n",
    "for i in list(range(node.ix[:,2].size)):\n",
    "    if node.ix[i,2] == 'fix':\n",
    "        stmx = np.delete(stmx, i, 0)\n",
    "        stmx = np.delete(stmx, i, 1)\n",
    "        force = np.delete(force, i, 0)\n",
    "        print('u', i + 1, '= 0.0')\n",
    "        fix = fix + 1\n",
    "    else:\n",
    "        pass\n",
    "    i = i + 1\n",
    "\n",
    "# 連立方程式を解く\n",
    "x = np.linalg.solve(stmx, force)\n",
    "\n",
    "i = 0\n",
    "for i in list(range(force.size)):\n",
    "    print('u', i + fix,'=', x[i])\n"
   ]
  },
  {
   "cell_type": "code",
   "execution_count": 206,
   "metadata": {
    "collapsed": false
   },
   "outputs": [
    {
     "name": "stdout",
     "output_type": "stream",
     "text": [
      "[[ 1 -1  0]\n",
      " [-1  2 -1]\n",
      " [ 0 -1  1]]\n",
      "[[ 1 -1]\n",
      " [-1  2]] [[ 0]\n",
      " [-1]] [[ 0 -1]] [[1]]\n"
     ]
    }
   ],
   "source": [
    "import numpy as np\n",
    "import pandas as pd\n",
    "\n",
    "# データの読み込み\n",
    "node = pd.read_csv('node.csv')\n",
    "spring = pd.read_csv('spring.csv')\n",
    "\n",
    "# 各節点にかかる力\n",
    "force = node.ix[:,3]\n",
    "\n",
    "# 各ばねのばね定数\n",
    "k = spring.ix[:, 3]\n",
    "\n",
    "# 剛性マトリクス\n",
    "stmx = np.array([[k[0], -k[0], 0],\n",
    "                 [-k[0], k[0]+k[1], -k[1]],\n",
    "                 [0, -k[1], k[1]]])\n",
    "\n",
    "\n",
    "a, b = np.split(stmx, [2], axis=0)\n",
    "aa, ab = np.split(a, [2], axis=1)\n",
    "ba, bb = np.split(b, [2], axis=1)\n",
    "print(stmx)\n",
    "print(aa, ab, ba, bb)"
   ]
  },
  {
   "cell_type": "code",
   "execution_count": 322,
   "metadata": {
    "collapsed": false
   },
   "outputs": [
    {
     "name": "stdout",
     "output_type": "stream",
     "text": [
      "   Point No  CorrdiX support  force\n",
      "0         1        0     fix      0\n",
      "1         2        1    free      0\n",
      "2         3        2    free      5\n",
      "3         4        3    free      3\n",
      "   Spring No  Point1  Point2  constant\n",
      "0          1       1       2         1\n",
      "1          2       2       3         1\n",
      "2          3       3       4         2\n"
     ]
    },
    {
     "data": {
      "text/plain": [
       "array([[ 1., -1.,  0.,  0.],\n",
       "       [-1.,  2., -1.,  0.],\n",
       "       [ 0., -1.,  3., -2.],\n",
       "       [ 0.,  0., -2.,  2.]])"
      ]
     },
     "execution_count": 322,
     "metadata": {},
     "output_type": "execute_result"
    }
   ],
   "source": [
    "import numpy as np\n",
    "import pandas as pd\n",
    "\n",
    "# データの読み込み\n",
    "node = pd.read_csv('node.csv')\n",
    "spring = pd.read_csv('spring.csv')\n",
    "\n",
    "print(node)\n",
    "print(spring)\n",
    "\n",
    "# 各節点にかかる力\n",
    "force = np.array(node.ix[:,3])\n",
    "\n",
    "# 各ばねのばね定数\n",
    "k = spring.ix[:, 3]\n",
    "\n",
    "# 剛性マトリクス\n",
    "stmx = np.zeros((len(node.ix[:, 0]),len(node.ix[:, 0])))\n",
    "size = node.ix[:,0].size\n",
    "i = 0\n",
    "\n",
    "for i in list(range(size)):\n",
    "    if i == 0:\n",
    "        stmx[0, 0] = k[0]\n",
    "        stmx[0, 1] = k[0] * (-1)\n",
    "\n",
    "    elif i == size - 1:\n",
    "        stmx[i, i-1] = k[i-1] * (-1)\n",
    "        stmx[i, i] = k[i-1]\n",
    "\n",
    "    else:\n",
    "        stmx[i, i-1] = k[i-1] * (-1)\n",
    "        stmx[i, i] = k[i-1] + k[i]\n",
    "        stmx[i, i+1] = k[i] * (-1)\n",
    "\n",
    "stmx"
   ]
  },
  {
   "cell_type": "code",
   "execution_count": 1,
   "metadata": {
    "collapsed": false
   },
   "outputs": [
    {
     "name": "stdout",
     "output_type": "stream",
     "text": [
      "[ 4. -2. -9.]\n"
     ]
    }
   ],
   "source": [
    "import numpy as np\n",
    "\n",
    "A = np.array([[6, 4, 1],\n",
    "              [1, 8, -2],\n",
    "              [3, 2, 0]])\n",
    "b = np.array([7, 6, 8])\n",
    "\n",
    "x = np.linalg.solve(A, b)\n",
    "\n",
    "print(x)"
   ]
  },
  {
   "cell_type": "code",
   "execution_count": 142,
   "metadata": {
    "collapsed": false
   },
   "outputs": [
    {
     "data": {
      "text/plain": [
       "[0, 1, 2]"
      ]
     },
     "execution_count": 142,
     "metadata": {},
     "output_type": "execute_result"
    }
   ],
   "source": [
    "list(range(node.ix[:,2].size))"
   ]
  },
  {
   "cell_type": "code",
   "execution_count": 27,
   "metadata": {
    "collapsed": false
   },
   "outputs": [
    {
     "data": {
      "text/plain": [
       "[0, 1, 2, 3, 4, 5, 6, 7, 8, 9]"
      ]
     },
     "execution_count": 27,
     "metadata": {},
     "output_type": "execute_result"
    }
   ],
   "source": [
    "comprehension_1= [i for i in range(10)]\n",
    "comprehension_1"
   ]
  }
 ],
 "metadata": {
  "kernelspec": {
   "display_name": "Python 3",
   "language": "python",
   "name": "python3"
  },
  "language_info": {
   "codemirror_mode": {
    "name": "ipython",
    "version": 3
   },
   "file_extension": ".py",
   "mimetype": "text/x-python",
   "name": "python",
   "nbconvert_exporter": "python",
   "pygments_lexer": "ipython3",
   "version": "3.5.1"
  }
 },
 "nbformat": 4,
 "nbformat_minor": 0
}
